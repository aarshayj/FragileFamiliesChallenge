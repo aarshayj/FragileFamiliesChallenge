{
 "cells": [
  {
   "cell_type": "markdown",
   "metadata": {},
   "source": [
    "# Data Preparation Notebook\n",
    "This noteobook is part 1 of the code to generate the data which will go into the analysis done in R notebooks. This code requires the following to run:\n",
    "\n",
    "* Python 3 environment\n",
    "* 2 Data Files present in a folder called FFChallenge:\n",
    "    - background.csv\n",
    "    - train.csv\n",
    "\n",
    "Note: The data has been shared with privacy agreement so we can't share the dataset with you. You'll have to request access on your own."
   ]
  },
  {
   "cell_type": "markdown",
   "metadata": {},
   "source": [
    "## Load Data"
   ]
  },
  {
   "cell_type": "code",
   "execution_count": 1,
   "metadata": {
    "collapsed": true
   },
   "outputs": [],
   "source": [
    "import pandas as pd\n",
    "import numpy as np\n",
    "import matplotlib.pylab as plt\n",
    "%matplotlib inline"
   ]
  },
  {
   "cell_type": "code",
   "execution_count": 2,
   "metadata": {
    "collapsed": false
   },
   "outputs": [
    {
     "name": "stderr",
     "output_type": "stream",
     "text": [
      "/Users/aarshay/anaconda3/lib/python3.6/site-packages/IPython/core/interactiveshell.py:2717: DtypeWarning: Columns (10025,10029,10032,10575,10578,10592,10607,10616,10631,10640,10655,10693,10712,10716,10740,10782,10787,10791,10796,10833,10865,10999,11030,11043,11127,11128,11234,11258,11282,11309,11310,11384,11394,11408,11409,11411,11412,11438,11441,11485,11490,11504,11508,11511,11514,11520,11527,11533,11539,11545,11546,11624,11629,11658,11672,11673,11678,11679,11680,11719,11721,11934,12160,12166,12168,12177,12183,12189,12199,12201,12203,12205,12216,12217,12228,12229,12239,12300,12316,12358,12367,12375,12402,12404,12408,12451,12453,12465,12467,12475,12481,12483,12496,12498,12520,12530,12531,12541,12599,12607,12623,12638,12650,12651,12663,12668,12715,12717,12735,12736,12758,12762,12772,12781,12788,12800,12801) have mixed types. Specify dtype option on import or set low_memory=False.\n",
      "  interactivity=interactivity, compiler=compiler, result=result)\n"
     ]
    }
   ],
   "source": [
    "data = pd.read_csv('FFChallenge/background.csv')\n",
    "outcomes = pd.read_csv('FFChallenge/train.csv')"
   ]
  },
  {
   "cell_type": "code",
   "execution_count": 3,
   "metadata": {
    "collapsed": false
   },
   "outputs": [
    {
     "data": {
      "text/plain": [
       "(4242, 12943)"
      ]
     },
     "execution_count": 3,
     "metadata": {},
     "output_type": "execute_result"
    }
   ],
   "source": [
    "data.shape"
   ]
  },
  {
   "cell_type": "code",
   "execution_count": 4,
   "metadata": {
    "collapsed": false
   },
   "outputs": [
    {
     "data": {
      "text/plain": [
       "(2121, 7)"
      ]
     },
     "execution_count": 4,
     "metadata": {},
     "output_type": "execute_result"
    }
   ],
   "source": [
    "outcomes.shape"
   ]
  },
  {
   "cell_type": "code",
   "execution_count": 5,
   "metadata": {
    "collapsed": false
   },
   "outputs": [],
   "source": [
    "#define the columns required and reduce the dataframe\n",
    "required_cols = ['challengeID']\n",
    "required_cols.extend(['cm%dcohp'%i for i in range(2,6)])\n",
    "required_cols.extend(['cm%dmarp'%i for i in range(2,6)])\n",
    "required_cols.extend(['m1e1b%d'%i for i in range(1,9)])\n",
    "required_cols.extend(['cm%dcohf'%i for i in range(1,6)])\n",
    "required_cols.extend(['m4a13','m5d2h','m4e2h','m2e2','m4c1c','m5a101'])\n",
    "required_cols.extend(['cm%drelf'%i for i in range(1,6)])\n",
    "required_cols.extend(['m%dc2'%i for i in range(2,5)]+['m5b2'])\n",
    "required_cols.extend(['m%dc5'%i for i in range(2,5)]+['m5b3'])\n",
    "required_cols.extend(['cm1edu','cf1edu','cm5md_case_con','cm5md_case_lib',\n",
    "                      'cm3gad_case','cm3alc_case','cm3drug_case'])\n",
    "required_cols.extend(['cm%dhhinc'%i for i in range(1,6)])\n",
    "required_cols.extend(['k5b2d','k5b1d','k5b3d'])"
   ]
  },
  {
   "cell_type": "code",
   "execution_count": 6,
   "metadata": {
    "collapsed": false
   },
   "outputs": [
    {
     "data": {
      "text/plain": [
       "(4242, 56)"
      ]
     },
     "execution_count": 6,
     "metadata": {},
     "output_type": "execute_result"
    }
   ],
   "source": [
    "df = data[required_cols]\n",
    "df.shape"
   ]
  },
  {
   "cell_type": "code",
   "execution_count": 7,
   "metadata": {
    "collapsed": false
   },
   "outputs": [
    {
     "data": {
      "text/plain": [
       "(4242, 58)"
      ]
     },
     "execution_count": 7,
     "metadata": {},
     "output_type": "execute_result"
    }
   ],
   "source": [
    "df = df.merge(outcomes[['challengeID','gpa','grit']],on='challengeID',how='left')\n",
    "df.shape"
   ]
  },
  {
   "cell_type": "markdown",
   "metadata": {},
   "source": [
    "## Drop rows"
   ]
  },
  {
   "cell_type": "markdown",
   "metadata": {},
   "source": [
    "### drop values withouth gpa or grit"
   ]
  },
  {
   "cell_type": "code",
   "execution_count": 8,
   "metadata": {
    "collapsed": false
   },
   "outputs": [],
   "source": [
    "df = df.dropna(subset=['gpa','grit'])"
   ]
  },
  {
   "cell_type": "code",
   "execution_count": 9,
   "metadata": {
    "collapsed": false
   },
   "outputs": [
    {
     "data": {
      "text/plain": [
       "(1162, 58)"
      ]
     },
     "execution_count": 9,
     "metadata": {},
     "output_type": "execute_result"
    }
   ],
   "source": [
    "df.shape"
   ]
  },
  {
   "cell_type": "markdown",
   "metadata": {},
   "source": [
    "### not in wave\n",
    "use cohf for mothers not in wave"
   ]
  },
  {
   "cell_type": "code",
   "execution_count": 10,
   "metadata": {
    "collapsed": false
   },
   "outputs": [],
   "source": [
    "cols = ['cm%dcohf'%i for i in range(1,6)]\n",
    "df['num_mothers_not_in_wave'] = df[cols].apply(lambda x: sum(x==-9),axis=1)"
   ]
  },
  {
   "cell_type": "code",
   "execution_count": 11,
   "metadata": {
    "collapsed": false
   },
   "outputs": [
    {
     "data": {
      "text/plain": [
       "0    951\n",
       "1    158\n",
       "2     44\n",
       "3      7\n",
       "4      2\n",
       "Name: num_mothers_not_in_wave, dtype: int64"
      ]
     },
     "execution_count": 11,
     "metadata": {},
     "output_type": "execute_result"
    }
   ],
   "source": [
    "df['num_mothers_not_in_wave'].value_counts()"
   ]
  },
  {
   "cell_type": "code",
   "execution_count": 12,
   "metadata": {
    "collapsed": false
   },
   "outputs": [
    {
     "data": {
      "text/plain": [
       "(951, 59)"
      ]
     },
     "execution_count": 12,
     "metadata": {},
     "output_type": "execute_result"
    }
   ],
   "source": [
    "#drop all:\n",
    "df.loc[df['num_mothers_not_in_wave']!=0,'num_mothers_not_in_wave']=np.nan\n",
    "df=df.dropna(subset=['num_mothers_not_in_wave'])\n",
    "df.shape"
   ]
  },
  {
   "cell_type": "markdown",
   "metadata": {},
   "source": [
    "### drop father custody:"
   ]
  },
  {
   "cell_type": "code",
   "execution_count": 13,
   "metadata": {
    "collapsed": false
   },
   "outputs": [
    {
     "data": {
      "text/plain": [
       " 2    503\n",
       "-6    446\n",
       " 1      2\n",
       "Name: m4c1c, dtype: int64"
      ]
     },
     "execution_count": 13,
     "metadata": {},
     "output_type": "execute_result"
    }
   ],
   "source": [
    "df['m4c1c'].value_counts()"
   ]
  },
  {
   "cell_type": "code",
   "execution_count": 14,
   "metadata": {
    "collapsed": false
   },
   "outputs": [
    {
     "data": {
      "text/plain": [
       "(949, 59)"
      ]
     },
     "execution_count": 14,
     "metadata": {},
     "output_type": "execute_result"
    }
   ],
   "source": [
    "df.loc[df['m4c1c']==1,'m4c1c']=np.nan\n",
    "df=df.dropna(subset=['m4c1c'])\n",
    "df.shape"
   ]
  },
  {
   "cell_type": "code",
   "execution_count": 15,
   "metadata": {
    "collapsed": false
   },
   "outputs": [
    {
     "data": {
      "text/html": [
       "<div>\n",
       "<table border=\"1\" class=\"dataframe\">\n",
       "  <thead>\n",
       "    <tr style=\"text-align: right;\">\n",
       "      <th></th>\n",
       "      <th>challengeID</th>\n",
       "      <th>cm2cohp</th>\n",
       "      <th>cm3cohp</th>\n",
       "      <th>cm4cohp</th>\n",
       "      <th>cm5cohp</th>\n",
       "      <th>cm2marp</th>\n",
       "      <th>cm3marp</th>\n",
       "      <th>cm4marp</th>\n",
       "      <th>cm5marp</th>\n",
       "      <th>m1e1b1</th>\n",
       "      <th>...</th>\n",
       "      <th>cm2hhinc</th>\n",
       "      <th>cm3hhinc</th>\n",
       "      <th>cm4hhinc</th>\n",
       "      <th>cm5hhinc</th>\n",
       "      <th>k5b2d</th>\n",
       "      <th>k5b1d</th>\n",
       "      <th>k5b3d</th>\n",
       "      <th>gpa</th>\n",
       "      <th>grit</th>\n",
       "      <th>num_mothers_not_in_wave</th>\n",
       "    </tr>\n",
       "  </thead>\n",
       "  <tbody>\n",
       "    <tr>\n",
       "      <th>6</th>\n",
       "      <td>7</td>\n",
       "      <td>0</td>\n",
       "      <td>0</td>\n",
       "      <td>0</td>\n",
       "      <td>0</td>\n",
       "      <td>0</td>\n",
       "      <td>0</td>\n",
       "      <td>0</td>\n",
       "      <td>0</td>\n",
       "      <td>1</td>\n",
       "      <td>...</td>\n",
       "      <td>62734.484774</td>\n",
       "      <td>52626.128551</td>\n",
       "      <td>50674.811427</td>\n",
       "      <td>78726.236096</td>\n",
       "      <td>0</td>\n",
       "      <td>4</td>\n",
       "      <td>-6</td>\n",
       "      <td>2.50</td>\n",
       "      <td>3.25</td>\n",
       "      <td>0.0</td>\n",
       "    </tr>\n",
       "    <tr>\n",
       "      <th>8</th>\n",
       "      <td>9</td>\n",
       "      <td>0</td>\n",
       "      <td>0</td>\n",
       "      <td>0</td>\n",
       "      <td>0</td>\n",
       "      <td>0</td>\n",
       "      <td>0</td>\n",
       "      <td>0</td>\n",
       "      <td>0</td>\n",
       "      <td>3</td>\n",
       "      <td>...</td>\n",
       "      <td>15160.459993</td>\n",
       "      <td>27605.370852</td>\n",
       "      <td>21406.196061</td>\n",
       "      <td>59011.060985</td>\n",
       "      <td>0</td>\n",
       "      <td>0</td>\n",
       "      <td>-6</td>\n",
       "      <td>2.25</td>\n",
       "      <td>4.00</td>\n",
       "      <td>0.0</td>\n",
       "    </tr>\n",
       "    <tr>\n",
       "      <th>12</th>\n",
       "      <td>13</td>\n",
       "      <td>0</td>\n",
       "      <td>0</td>\n",
       "      <td>0</td>\n",
       "      <td>0</td>\n",
       "      <td>0</td>\n",
       "      <td>0</td>\n",
       "      <td>0</td>\n",
       "      <td>1</td>\n",
       "      <td>3</td>\n",
       "      <td>...</td>\n",
       "      <td>22649.223008</td>\n",
       "      <td>34357.163395</td>\n",
       "      <td>31259.561175</td>\n",
       "      <td>0.000000</td>\n",
       "      <td>1</td>\n",
       "      <td>1</td>\n",
       "      <td>0</td>\n",
       "      <td>2.75</td>\n",
       "      <td>4.00</td>\n",
       "      <td>0.0</td>\n",
       "    </tr>\n",
       "    <tr>\n",
       "      <th>13</th>\n",
       "      <td>14</td>\n",
       "      <td>0</td>\n",
       "      <td>0</td>\n",
       "      <td>0</td>\n",
       "      <td>0</td>\n",
       "      <td>0</td>\n",
       "      <td>0</td>\n",
       "      <td>0</td>\n",
       "      <td>0</td>\n",
       "      <td>3</td>\n",
       "      <td>...</td>\n",
       "      <td>55901.339636</td>\n",
       "      <td>30175.323134</td>\n",
       "      <td>43044.954909</td>\n",
       "      <td>30141.137894</td>\n",
       "      <td>3</td>\n",
       "      <td>1</td>\n",
       "      <td>-6</td>\n",
       "      <td>3.25</td>\n",
       "      <td>2.75</td>\n",
       "      <td>0.0</td>\n",
       "    </tr>\n",
       "    <tr>\n",
       "      <th>15</th>\n",
       "      <td>16</td>\n",
       "      <td>0</td>\n",
       "      <td>0</td>\n",
       "      <td>1</td>\n",
       "      <td>0</td>\n",
       "      <td>0</td>\n",
       "      <td>0</td>\n",
       "      <td>0</td>\n",
       "      <td>1</td>\n",
       "      <td>4</td>\n",
       "      <td>...</td>\n",
       "      <td>7840.233692</td>\n",
       "      <td>10355.853114</td>\n",
       "      <td>992.308932</td>\n",
       "      <td>26114.322671</td>\n",
       "      <td>0</td>\n",
       "      <td>2</td>\n",
       "      <td>-6</td>\n",
       "      <td>2.00</td>\n",
       "      <td>3.50</td>\n",
       "      <td>0.0</td>\n",
       "    </tr>\n",
       "  </tbody>\n",
       "</table>\n",
       "<p>5 rows × 59 columns</p>\n",
       "</div>"
      ],
      "text/plain": [
       "    challengeID  cm2cohp  cm3cohp  cm4cohp  cm5cohp  cm2marp  cm3marp  \\\n",
       "6             7        0        0        0        0        0        0   \n",
       "8             9        0        0        0        0        0        0   \n",
       "12           13        0        0        0        0        0        0   \n",
       "13           14        0        0        0        0        0        0   \n",
       "15           16        0        0        1        0        0        0   \n",
       "\n",
       "    cm4marp  cm5marp  m1e1b1           ...                 cm2hhinc  \\\n",
       "6         0        0       1           ...             62734.484774   \n",
       "8         0        0       3           ...             15160.459993   \n",
       "12        0        1       3           ...             22649.223008   \n",
       "13        0        0       3           ...             55901.339636   \n",
       "15        0        1       4           ...              7840.233692   \n",
       "\n",
       "        cm3hhinc      cm4hhinc      cm5hhinc  k5b2d  k5b1d  k5b3d   gpa  grit  \\\n",
       "6   52626.128551  50674.811427  78726.236096      0      4     -6  2.50  3.25   \n",
       "8   27605.370852  21406.196061  59011.060985      0      0     -6  2.25  4.00   \n",
       "12  34357.163395  31259.561175      0.000000      1      1      0  2.75  4.00   \n",
       "13  30175.323134  43044.954909  30141.137894      3      1     -6  3.25  2.75   \n",
       "15  10355.853114    992.308932  26114.322671      0      2     -6  2.00  3.50   \n",
       "\n",
       "    num_mothers_not_in_wave  \n",
       "6                       0.0  \n",
       "8                       0.0  \n",
       "12                      0.0  \n",
       "13                      0.0  \n",
       "15                      0.0  \n",
       "\n",
       "[5 rows x 59 columns]"
      ]
     },
     "execution_count": 15,
     "metadata": {},
     "output_type": "execute_result"
    }
   ],
   "source": [
    "df.head()"
   ]
  },
  {
   "cell_type": "markdown",
   "metadata": {},
   "source": [
    "# Features:"
   ]
  },
  {
   "cell_type": "code",
   "execution_count": 16,
   "metadata": {
    "collapsed": true
   },
   "outputs": [],
   "source": [
    "#function for raw features\n",
    "def view_var(data,x,year=[1,2,3,4],print_counts=False):\n",
    "    col = []\n",
    "    for t in x:\n",
    "        col.extend([i for i in data.columns if t in i])\n",
    "    print('cols found: %s'%col)\n",
    "    if not print_counts:\n",
    "        print(data[col].head(50))\n",
    "    else:\n",
    "        for x in col:\n",
    "#             print('value counts for variable %s'%col)\n",
    "            print(data[x].value_counts())"
   ]
  },
  {
   "cell_type": "code",
   "execution_count": 17,
   "metadata": {
    "collapsed": true
   },
   "outputs": [],
   "source": [
    "def recode_vars(x,code_dict):\n",
    "    d = {}\n",
    "    for key,values in code_dict.items():\n",
    "        for val in values:\n",
    "            d[val]=key\n",
    "    \n",
    "    x2 = x.replace(d)\n",
    "    assert set(np.unique(x2)) == set(code_dict.keys())\n",
    "    return x2"
   ]
  },
  {
   "cell_type": "code",
   "execution_count": 18,
   "metadata": {
    "collapsed": true
   },
   "outputs": [],
   "source": [
    "df_new = df.copy()"
   ]
  },
  {
   "cell_type": "markdown",
   "metadata": {},
   "source": [
    "## Father's Involvement:"
   ]
  },
  {
   "cell_type": "code",
   "execution_count": 19,
   "metadata": {
    "collapsed": false
   },
   "outputs": [],
   "source": [
    "#dictionary:\n",
    "code_dict = {\n",
    "    'full': [1],\n",
    "    'partial': [2,3],\n",
    "    'none': [4,5,-2,-6]\n",
    "}\n",
    "\n",
    "#cols:\n",
    "cols = ['m%dc5'%i for i in range(2,5)]+['m5b3']\n",
    "df_new[cols] = df[cols].apply(lambda x: recode_vars(x,code_dict=code_dict))"
   ]
  },
  {
   "cell_type": "code",
   "execution_count": 20,
   "metadata": {
    "collapsed": false
   },
   "outputs": [],
   "source": [
    "#get score:\n",
    "def involvement(x):\n",
    "    key = {'full':5, 'partial':2.5, 'none':0}\n",
    "    weights = [0.1, 0.2, 0.3, 0.4]\n",
    "    absscore = [key[i] for i in x]\n",
    "    weighted_score = np.dot(weights,absscore)\n",
    "    return 'low' if weighted_score<1.75 else 'medium' if weighted_score<3.5 else 'high'"
   ]
  },
  {
   "cell_type": "code",
   "execution_count": 21,
   "metadata": {
    "collapsed": false
   },
   "outputs": [],
   "source": [
    "# df_new[cols[1:]].apply(lambda x: ' '.join(x.values),axis=1).value_counts()"
   ]
  },
  {
   "cell_type": "code",
   "execution_count": 22,
   "metadata": {
    "collapsed": false
   },
   "outputs": [],
   "source": [
    "df_new['father_involvement'] = df_new[cols].apply(involvement, axis=1)"
   ]
  },
  {
   "cell_type": "code",
   "execution_count": 23,
   "metadata": {
    "collapsed": false
   },
   "outputs": [
    {
     "data": {
      "text/plain": [
       "high      386\n",
       "low       319\n",
       "medium    244\n",
       "Name: father_involvement, dtype: int64"
      ]
     },
     "execution_count": 23,
     "metadata": {},
     "output_type": "execute_result"
    }
   ],
   "source": [
    "df_new['father_involvement'].value_counts()"
   ]
  },
  {
   "cell_type": "code",
   "execution_count": 24,
   "metadata": {
    "collapsed": false
   },
   "outputs": [],
   "source": [
    "#test code\n",
    "# x=range(0,6)\n",
    "\n",
    "# for i in x:\n",
    "#     print(i,'none' if i<2 else 'partial' if i<4 else 'full')"
   ]
  },
  {
   "cell_type": "markdown",
   "metadata": {},
   "source": [
    "## Father's presence"
   ]
  },
  {
   "cell_type": "code",
   "execution_count": 25,
   "metadata": {
    "collapsed": false
   },
   "outputs": [
    {
     "data": {
      "text/plain": [
       "[('m2c2', 'cm2relf'),\n",
       " ('m3c2', 'cm3relf'),\n",
       " ('m4c2', 'cm4relf'),\n",
       " ('m5b2', 'cm5relf')]"
      ]
     },
     "execution_count": 25,
     "metadata": {},
     "output_type": "execute_result"
    }
   ],
   "source": [
    "filter_cols = ['m%dc2'%i for i in range(2,5)]+['m5b2']\n",
    "relf_cols = ['cm%drelf'%i for i in range(2,6)]\n",
    "[i for i in zip(filter_cols,relf_cols)]"
   ]
  },
  {
   "cell_type": "code",
   "execution_count": 26,
   "metadata": {
    "collapsed": false,
    "scrolled": true
   },
   "outputs": [
    {
     "name": "stdout",
     "output_type": "stream",
     "text": [
      "-6    575\n",
      " 1    341\n",
      " 2     31\n",
      "-1      2\n",
      "Name: m2c2, dtype: int64\n",
      "-6    520\n",
      " 1    373\n",
      " 2     53\n",
      "-2      2\n",
      " 3      1\n",
      "Name: m3c2, dtype: int64\n",
      "-6    446\n",
      " 1    406\n",
      " 2     93\n",
      " 3      3\n",
      "-2      1\n",
      "Name: m4c2, dtype: int64\n",
      "-6    421\n",
      " 1    379\n",
      " 2    147\n",
      " 3      2\n",
      "Name: m5b2, dtype: int64\n"
     ]
    }
   ],
   "source": [
    "for col in filter_cols:\n",
    "    print(df[col].value_counts())"
   ]
  },
  {
   "cell_type": "markdown",
   "metadata": {},
   "source": [
    "m2c2: 0=dont know of child; 1=yes; 2=no; -2: dont know; -1: refused\n",
    "m3c2/m4c2/m5b2: 3=dont know of child; 1=yes; 2=no; -2: dont know; -1: refused"
   ]
  },
  {
   "cell_type": "code",
   "execution_count": 27,
   "metadata": {
    "collapsed": false
   },
   "outputs": [],
   "source": [
    "def father_presence(df,df2,col,var):\n",
    "    df2[col] = [np.nan]*df2.shape[0]\n",
    "    print(col)\n",
    "    df2.loc[[ x in [0,2,3] for x in df[var[0]] ],col] = 'none'\n",
    "    df2.loc[[x in [1,2] for x in df[var[1]]],col] = 'full'\n",
    "    df2[col]=df2[col].fillna('partial')\n",
    "#     print(df2[col])"
   ]
  },
  {
   "cell_type": "code",
   "execution_count": 28,
   "metadata": {
    "collapsed": false
   },
   "outputs": [
    {
     "data": {
      "text/plain": [
       "(949, 60)"
      ]
     },
     "execution_count": 28,
     "metadata": {},
     "output_type": "execute_result"
    }
   ],
   "source": [
    "df_new.shape"
   ]
  },
  {
   "cell_type": "code",
   "execution_count": 29,
   "metadata": {
    "collapsed": false
   },
   "outputs": [
    {
     "name": "stdout",
     "output_type": "stream",
     "text": [
      "presence_2\n",
      "presence_3\n",
      "presence_4\n",
      "presence_5\n"
     ]
    }
   ],
   "source": [
    "new_cols = ['presence_%d'%i for i in range(2,6)]\n",
    "for var in zip(filter_cols,relf_cols, new_cols):\n",
    "    father_presence(df_new,df_new,var[2],var[:-1])"
   ]
  },
  {
   "cell_type": "code",
   "execution_count": 30,
   "metadata": {
    "collapsed": false
   },
   "outputs": [
    {
     "name": "stdout",
     "output_type": "stream",
     "text": [
      "full       535\n",
      "partial    383\n",
      "none        31\n",
      "Name: presence_2, dtype: int64\n",
      "full       482\n",
      "partial    413\n",
      "none        54\n",
      "Name: presence_3, dtype: int64\n",
      "partial    434\n",
      "full       420\n",
      "none        95\n",
      "Name: presence_4, dtype: int64\n",
      "partial    425\n",
      "full       375\n",
      "none       149\n",
      "Name: presence_5, dtype: int64\n"
     ]
    }
   ],
   "source": [
    "for col in new_cols:\n",
    "    print(df_new[col].value_counts())"
   ]
  },
  {
   "cell_type": "code",
   "execution_count": 31,
   "metadata": {
    "collapsed": false
   },
   "outputs": [
    {
     "data": {
      "text/html": [
       "<div>\n",
       "<table border=\"1\" class=\"dataframe\">\n",
       "  <thead>\n",
       "    <tr style=\"text-align: right;\">\n",
       "      <th></th>\n",
       "      <th>presence_2</th>\n",
       "      <th>presence_3</th>\n",
       "      <th>presence_4</th>\n",
       "      <th>presence_5</th>\n",
       "    </tr>\n",
       "  </thead>\n",
       "  <tbody>\n",
       "    <tr>\n",
       "      <th>6</th>\n",
       "      <td>full</td>\n",
       "      <td>partial</td>\n",
       "      <td>full</td>\n",
       "      <td>full</td>\n",
       "    </tr>\n",
       "    <tr>\n",
       "      <th>8</th>\n",
       "      <td>full</td>\n",
       "      <td>full</td>\n",
       "      <td>full</td>\n",
       "      <td>full</td>\n",
       "    </tr>\n",
       "    <tr>\n",
       "      <th>12</th>\n",
       "      <td>full</td>\n",
       "      <td>full</td>\n",
       "      <td>partial</td>\n",
       "      <td>partial</td>\n",
       "    </tr>\n",
       "    <tr>\n",
       "      <th>13</th>\n",
       "      <td>full</td>\n",
       "      <td>full</td>\n",
       "      <td>full</td>\n",
       "      <td>full</td>\n",
       "    </tr>\n",
       "    <tr>\n",
       "      <th>15</th>\n",
       "      <td>partial</td>\n",
       "      <td>partial</td>\n",
       "      <td>partial</td>\n",
       "      <td>partial</td>\n",
       "    </tr>\n",
       "  </tbody>\n",
       "</table>\n",
       "</div>"
      ],
      "text/plain": [
       "   presence_2 presence_3 presence_4 presence_5\n",
       "6        full    partial       full       full\n",
       "8        full       full       full       full\n",
       "12       full       full    partial    partial\n",
       "13       full       full       full       full\n",
       "15    partial    partial    partial    partial"
      ]
     },
     "execution_count": 31,
     "metadata": {},
     "output_type": "execute_result"
    }
   ],
   "source": [
    "df_new[new_cols].head()"
   ]
  },
  {
   "cell_type": "code",
   "execution_count": 32,
   "metadata": {
    "collapsed": true
   },
   "outputs": [],
   "source": [
    "df_new['father_presence'] = df_new[new_cols].apply(involvement, axis=1)"
   ]
  },
  {
   "cell_type": "code",
   "execution_count": 33,
   "metadata": {
    "collapsed": false
   },
   "outputs": [
    {
     "data": {
      "text/plain": [
       "high      438\n",
       "medium    379\n",
       "low       132\n",
       "Name: father_presence, dtype: int64"
      ]
     },
     "execution_count": 33,
     "metadata": {},
     "output_type": "execute_result"
    }
   ],
   "source": [
    "df_new['father_presence'].value_counts()"
   ]
  },
  {
   "cell_type": "code",
   "execution_count": 34,
   "metadata": {
    "collapsed": false
   },
   "outputs": [],
   "source": [
    "# df_new[new_cols].apply(lambda x: ' '.join(x.values),axis=1).value_counts()"
   ]
  },
  {
   "cell_type": "markdown",
   "metadata": {},
   "source": [
    "## Number of partners\n",
    "apart from father"
   ]
  },
  {
   "cell_type": "code",
   "execution_count": 35,
   "metadata": {
    "collapsed": false
   },
   "outputs": [
    {
     "name": "stdout",
     "output_type": "stream",
     "text": [
      "-6     420\n",
      " 1     294\n",
      " 0     130\n",
      " 2      53\n",
      "-10     25\n",
      " 3      14\n",
      " 4       5\n",
      "-1       3\n",
      "-2       2\n",
      " 5       2\n",
      " 6       1\n",
      "Name: m4a13, dtype: int64\n",
      "-6    482\n",
      " 1    335\n",
      " 2    104\n",
      " 3     20\n",
      " 4      3\n",
      " 5      2\n",
      "-2      1\n",
      " 7      1\n",
      " 6      1\n",
      "Name: m5a101, dtype: int64\n"
     ]
    }
   ],
   "source": [
    "cols = ['m4a13','m5a101']\n",
    "for col in cols:\n",
    "    print(df_new[col].value_counts())"
   ]
  },
  {
   "cell_type": "markdown",
   "metadata": {},
   "source": [
    "-10: only father -> 0\n",
    "-6: skipped -> 0\n",
    "-1: refused -> 0\n",
    "-2: dont know -> 0"
   ]
  },
  {
   "cell_type": "code",
   "execution_count": 36,
   "metadata": {
    "collapsed": false
   },
   "outputs": [],
   "source": [
    "code_dict = {\n",
    "    -6:0, -10:0, -1:0, -2:0\n",
    "}\n",
    "df_new['num_partners'] = df_new['m4a13'].replace(code_dict) + df_new['m5a101'].replace(code_dict)"
   ]
  },
  {
   "cell_type": "code",
   "execution_count": 37,
   "metadata": {
    "collapsed": false
   },
   "outputs": [
    {
     "data": {
      "text/plain": [
       "0    412\n",
       "2    227\n",
       "1    180\n",
       "3     79\n",
       "4     31\n",
       "6      9\n",
       "5      6\n",
       "7      3\n",
       "8      2\n",
       "Name: num_partners, dtype: int64"
      ]
     },
     "execution_count": 37,
     "metadata": {},
     "output_type": "execute_result"
    }
   ],
   "source": [
    "df_new['num_partners'].value_counts()"
   ]
  },
  {
   "cell_type": "markdown",
   "metadata": {},
   "source": [
    "## Cohabitating with biological father"
   ]
  },
  {
   "cell_type": "code",
   "execution_count": 38,
   "metadata": {
    "collapsed": true
   },
   "outputs": [],
   "source": [
    "relf_cols = ['cm%drelf'%i for i in range(2,6)]"
   ]
  },
  {
   "cell_type": "code",
   "execution_count": 39,
   "metadata": {
    "collapsed": true
   },
   "outputs": [],
   "source": [
    "df_new['num_cohab_biof'] = df_new[relf_cols].apply( lambda x: sum([i in [1,2] for i in x]) ,axis=1)"
   ]
  },
  {
   "cell_type": "code",
   "execution_count": 40,
   "metadata": {
    "collapsed": false
   },
   "outputs": [
    {
     "data": {
      "text/plain": [
       "0    333\n",
       "4    298\n",
       "1    122\n",
       "3    106\n",
       "2     90\n",
       "Name: num_cohab_biof, dtype: int64"
      ]
     },
     "execution_count": 40,
     "metadata": {},
     "output_type": "execute_result"
    }
   ],
   "source": [
    "df_new['num_cohab_biof'].value_counts()"
   ]
  },
  {
   "cell_type": "markdown",
   "metadata": {},
   "source": [
    "## Cohbitating with any partner"
   ]
  },
  {
   "cell_type": "code",
   "execution_count": 41,
   "metadata": {
    "collapsed": true
   },
   "outputs": [],
   "source": [
    "cols = ['cm%dcohp'%i for i in range(2,6)]+['cm%dmarp'%i for i in range(2,6)]"
   ]
  },
  {
   "cell_type": "code",
   "execution_count": 42,
   "metadata": {
    "collapsed": false,
    "scrolled": true
   },
   "outputs": [
    {
     "name": "stdout",
     "output_type": "stream",
     "text": [
      " 0    905\n",
      " 1     43\n",
      "-3      1\n",
      "Name: cm2cohp, dtype: int64\n",
      "0    878\n",
      "1     71\n",
      "Name: cm3cohp, dtype: int64\n",
      "0    840\n",
      "1    109\n",
      "Name: cm4cohp, dtype: int64\n",
      "0    820\n",
      "1    129\n",
      "Name: cm5cohp, dtype: int64\n",
      "0    945\n",
      "1      4\n",
      "Name: cm2marp, dtype: int64\n",
      "0    932\n",
      "1     17\n",
      "Name: cm3marp, dtype: int64\n",
      "0    909\n",
      "1     40\n",
      "Name: cm4marp, dtype: int64\n",
      "0    863\n",
      "1     86\n",
      "Name: cm5marp, dtype: int64\n"
     ]
    }
   ],
   "source": [
    "for col in cols:\n",
    "    print(df_new[col].value_counts())"
   ]
  },
  {
   "cell_type": "code",
   "execution_count": 43,
   "metadata": {
    "collapsed": true
   },
   "outputs": [],
   "source": [
    "df_new['cm2cohp']=df_new['cm2cohp'].replace({-3:0})"
   ]
  },
  {
   "cell_type": "code",
   "execution_count": 44,
   "metadata": {
    "collapsed": true
   },
   "outputs": [],
   "source": [
    "df_new['num_cohab_anyp'] = df_new['num_cohab_biof'] + df_new[cols].apply( sum ,axis=1 )\n",
    "df_new['num_cohab_anyp'] = [min(x,4) for x in df_new['num_cohab_anyp']]"
   ]
  },
  {
   "cell_type": "code",
   "execution_count": 45,
   "metadata": {
    "collapsed": false
   },
   "outputs": [
    {
     "data": {
      "text/plain": [
       "4    348\n",
       "3    161\n",
       "1    154\n",
       "0    146\n",
       "2    140\n",
       "Name: num_cohab_anyp, dtype: int64"
      ]
     },
     "execution_count": 45,
     "metadata": {},
     "output_type": "execute_result"
    }
   ],
   "source": [
    "df_new['num_cohab_anyp'].value_counts()"
   ]
  },
  {
   "cell_type": "markdown",
   "metadata": {},
   "source": [
    "## Control variables:"
   ]
  },
  {
   "cell_type": "markdown",
   "metadata": {},
   "source": [
    "### education"
   ]
  },
  {
   "cell_type": "code",
   "execution_count": 46,
   "metadata": {
    "collapsed": false
   },
   "outputs": [
    {
     "data": {
      "text/plain": [
       "2    303\n",
       "1    277\n",
       "3    245\n",
       "4    124\n",
       "Name: cm1edu, dtype: int64"
      ]
     },
     "execution_count": 46,
     "metadata": {},
     "output_type": "execute_result"
    }
   ],
   "source": [
    "df_new['cm1edu'].value_counts()"
   ]
  },
  {
   "cell_type": "markdown",
   "metadata": {},
   "source": [
    "1= <high school, 2: highschool; 3: some college/tech; 4: college/grad"
   ]
  },
  {
   "cell_type": "code",
   "execution_count": 47,
   "metadata": {
    "collapsed": true
   },
   "outputs": [],
   "source": [
    "df_new['mothers_education'] = df_new['cm1edu']\n",
    "df_new['fathers_education'] = df_new['cf1edu']"
   ]
  },
  {
   "cell_type": "code",
   "execution_count": 48,
   "metadata": {
    "collapsed": false
   },
   "outputs": [
    {
     "data": {
      "text/plain": [
       " 2    336\n",
       " 1    270\n",
       " 3    197\n",
       " 4    115\n",
       "-3     31\n",
       "Name: fathers_education, dtype: int64"
      ]
     },
     "execution_count": 48,
     "metadata": {},
     "output_type": "execute_result"
    }
   ],
   "source": [
    "df_new['fathers_education'].value_counts()"
   ]
  },
  {
   "cell_type": "code",
   "execution_count": 49,
   "metadata": {
    "collapsed": true
   },
   "outputs": [],
   "source": [
    "#impute with 2:\n",
    "df_new['fathers_education'] = df_new['fathers_education'].replace({-3:2})"
   ]
  },
  {
   "cell_type": "markdown",
   "metadata": {},
   "source": [
    "### cidi"
   ]
  },
  {
   "cell_type": "code",
   "execution_count": 50,
   "metadata": {
    "collapsed": true
   },
   "outputs": [],
   "source": [
    "cols = ['cm5md_case_con','cm5md_case_lib',\n",
    "                      'cm3gad_case','cm3alc_case','cm3drug_case']\n",
    "df_new['num_cidi_cases'] = df_new[cols].apply(lambda x: sum(x==1),axis=1)"
   ]
  },
  {
   "cell_type": "code",
   "execution_count": 51,
   "metadata": {
    "collapsed": false
   },
   "outputs": [
    {
     "data": {
      "text/plain": [
       "0    764\n",
       "2    109\n",
       "1     62\n",
       "3     13\n",
       "4      1\n",
       "Name: num_cidi_cases, dtype: int64"
      ]
     },
     "execution_count": 51,
     "metadata": {},
     "output_type": "execute_result"
    }
   ],
   "source": [
    "df_new['num_cidi_cases'].value_counts()"
   ]
  },
  {
   "cell_type": "code",
   "execution_count": 52,
   "metadata": {
    "collapsed": false
   },
   "outputs": [],
   "source": [
    "# for col in cols:\n",
    "#     print(df_new[col].value_counts())"
   ]
  },
  {
   "cell_type": "markdown",
   "metadata": {},
   "source": [
    "### income:"
   ]
  },
  {
   "cell_type": "code",
   "execution_count": 53,
   "metadata": {
    "collapsed": false
   },
   "outputs": [
    {
     "data": {
      "text/html": [
       "<div>\n",
       "<table border=\"1\" class=\"dataframe\">\n",
       "  <thead>\n",
       "    <tr style=\"text-align: right;\">\n",
       "      <th></th>\n",
       "      <th>cm1hhinc</th>\n",
       "      <th>cm2hhinc</th>\n",
       "      <th>cm3hhinc</th>\n",
       "      <th>cm4hhinc</th>\n",
       "      <th>cm5hhinc</th>\n",
       "    </tr>\n",
       "  </thead>\n",
       "  <tbody>\n",
       "    <tr>\n",
       "      <th>count</th>\n",
       "      <td>949.000000</td>\n",
       "      <td>949.000000</td>\n",
       "      <td>949.000000</td>\n",
       "      <td>949.000000</td>\n",
       "      <td>949.000000</td>\n",
       "    </tr>\n",
       "    <tr>\n",
       "      <th>mean</th>\n",
       "      <td>34369.173349</td>\n",
       "      <td>32393.883401</td>\n",
       "      <td>34004.734992</td>\n",
       "      <td>35971.773699</td>\n",
       "      <td>43996.135849</td>\n",
       "    </tr>\n",
       "    <tr>\n",
       "      <th>std</th>\n",
       "      <td>33967.481081</td>\n",
       "      <td>28561.716310</td>\n",
       "      <td>30280.361359</td>\n",
       "      <td>31298.961049</td>\n",
       "      <td>35754.889301</td>\n",
       "    </tr>\n",
       "    <tr>\n",
       "      <th>min</th>\n",
       "      <td>0.000000</td>\n",
       "      <td>0.000000</td>\n",
       "      <td>0.000000</td>\n",
       "      <td>0.000000</td>\n",
       "      <td>0.000000</td>\n",
       "    </tr>\n",
       "    <tr>\n",
       "      <th>25%</th>\n",
       "      <td>9860.334342</td>\n",
       "      <td>10720.318967</td>\n",
       "      <td>10605.645092</td>\n",
       "      <td>12080.658286</td>\n",
       "      <td>17221.713708</td>\n",
       "    </tr>\n",
       "    <tr>\n",
       "      <th>50%</th>\n",
       "      <td>24464.342940</td>\n",
       "      <td>23808.365414</td>\n",
       "      <td>24151.659622</td>\n",
       "      <td>27469.927295</td>\n",
       "      <td>33266.234034</td>\n",
       "    </tr>\n",
       "    <tr>\n",
       "      <th>75%</th>\n",
       "      <td>45749.527751</td>\n",
       "      <td>47900.920657</td>\n",
       "      <td>49574.607878</td>\n",
       "      <td>51998.298061</td>\n",
       "      <td>60669.658965</td>\n",
       "    </tr>\n",
       "    <tr>\n",
       "      <th>max</th>\n",
       "      <td>145833.813461</td>\n",
       "      <td>114441.688881</td>\n",
       "      <td>120349.777647</td>\n",
       "      <td>126188.204789</td>\n",
       "      <td>144650.434307</td>\n",
       "    </tr>\n",
       "  </tbody>\n",
       "</table>\n",
       "</div>"
      ],
      "text/plain": [
       "            cm1hhinc       cm2hhinc       cm3hhinc       cm4hhinc  \\\n",
       "count     949.000000     949.000000     949.000000     949.000000   \n",
       "mean    34369.173349   32393.883401   34004.734992   35971.773699   \n",
       "std     33967.481081   28561.716310   30280.361359   31298.961049   \n",
       "min         0.000000       0.000000       0.000000       0.000000   \n",
       "25%      9860.334342   10720.318967   10605.645092   12080.658286   \n",
       "50%     24464.342940   23808.365414   24151.659622   27469.927295   \n",
       "75%     45749.527751   47900.920657   49574.607878   51998.298061   \n",
       "max    145833.813461  114441.688881  120349.777647  126188.204789   \n",
       "\n",
       "            cm5hhinc  \n",
       "count     949.000000  \n",
       "mean    43996.135849  \n",
       "std     35754.889301  \n",
       "min         0.000000  \n",
       "25%     17221.713708  \n",
       "50%     33266.234034  \n",
       "75%     60669.658965  \n",
       "max    144650.434307  "
      ]
     },
     "execution_count": 53,
     "metadata": {},
     "output_type": "execute_result"
    }
   ],
   "source": [
    "cols = ['cm%dhhinc'%i for i in range(1,6)]\n",
    "df_new[cols].describe()"
   ]
  },
  {
   "cell_type": "code",
   "execution_count": 54,
   "metadata": {
    "collapsed": false
   },
   "outputs": [
    {
     "data": {
      "text/plain": [
       "<matplotlib.axes._subplots.AxesSubplot at 0x1231de2b0>"
      ]
     },
     "execution_count": 54,
     "metadata": {},
     "output_type": "execute_result"
    },
    {
     "data": {
      "image/png": "[encoded data removed]",
      "text/plain": [
       "<matplotlib.figure.Figure at 0x1223e8c18>"
      ]
     },
     "metadata": {},
     "output_type": "display_data"
    }
   ],
   "source": [
    "df_new['hh_income'] = df_new[cols].apply(lambda x: np.log(np.mean(x)+1+1e-10),axis=1)\n",
    "df_new['hh_income'].hist(bins=20)"
   ]
  },
  {
   "cell_type": "markdown",
   "metadata": {},
   "source": [
    "### domestic spanking"
   ]
  },
  {
   "cell_type": "code",
   "execution_count": 55,
   "metadata": {
    "collapsed": false,
    "scrolled": true
   },
   "outputs": [
    {
     "name": "stdout",
     "output_type": "stream",
     "text": [
      " 0    451\n",
      "-6    179\n",
      " 1    118\n",
      " 2     80\n",
      " 3     48\n",
      "-9     32\n",
      " 4     25\n",
      "-1      8\n",
      "-2      7\n",
      "-3      1\n",
      "Name: k5b2d, dtype: int64\n",
      " 0    435\n",
      " 1    197\n",
      " 2    136\n",
      " 3     81\n",
      " 4     42\n",
      "-9     32\n",
      "-2     11\n",
      "-1     10\n",
      "-6      4\n",
      "-3      1\n",
      "Name: k5b1d, dtype: int64\n",
      "-6    747\n",
      " 0    126\n",
      "-9     32\n",
      " 1     21\n",
      " 3      7\n",
      " 4      6\n",
      " 2      4\n",
      "-2      3\n",
      "-1      2\n",
      "-3      1\n",
      "Name: k5b3d, dtype: int64\n"
     ]
    }
   ],
   "source": [
    "cols = ['k5b2d','k5b1d','k5b3d']\n",
    "for col in cols:\n",
    "    print(df_new[col].value_counts())"
   ]
  },
  {
   "cell_type": "code",
   "execution_count": 56,
   "metadata": {
    "collapsed": false
   },
   "outputs": [
    {
     "data": {
      "text/plain": [
       "0     382\n",
       "2     144\n",
       "1     133\n",
       "3     130\n",
       "4      88\n",
       "6      28\n",
       "5      23\n",
       "8      13\n",
       "7       6\n",
       "12      2\n",
       "Name: kid_punished, dtype: int64"
      ]
     },
     "execution_count": 56,
     "metadata": {},
     "output_type": "execute_result"
    }
   ],
   "source": [
    "code_dict={-6:0, -9:1, -1:1,-2:1,-3:1}\n",
    "df_new['kid_punished'] = df_new[cols].apply(lambda x: sum(x.replace(code_dict)),axis=1)\n",
    "df_new['kid_punished'].value_counts()"
   ]
  },
  {
   "cell_type": "markdown",
   "metadata": {},
   "source": [
    "## Final exports:\n",
    "New features created:\n",
    "\n",
    "Explanatory:\n",
    "* father_involvement\n",
    "* father_presence\n",
    "* num_partners\n",
    "* num_cohab_biof\n",
    "* num_cohab_anyp\n",
    "\n",
    "Control:\n",
    "* mothers_education\n",
    "* fathers_education\n",
    "* num_cidi_cases\n",
    "* hh_income\n",
    "* kid_punished"
   ]
  },
  {
   "cell_type": "code",
   "execution_count": 57,
   "metadata": {
    "collapsed": true
   },
   "outputs": [],
   "source": [
    "df_new.to_csv('FFChallenge/final_data.csv',index=False)"
   ]
  }
 ],
 "metadata": {
  "kernelspec": {
   "display_name": "Python 3",
   "language": "python",
   "name": "python3"
  },
  "language_info": {
   "codemirror_mode": {
    "name": "ipython",
    "version": 3
   },
   "file_extension": ".py",
   "mimetype": "text/x-python",
   "name": "python",
   "nbconvert_exporter": "python",
   "pygments_lexer": "ipython3",
   "version": "3.6.0"
  }
 },
 "nbformat": 4,
 "nbformat_minor": 2
}
